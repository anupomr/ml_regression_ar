{
  "nbformat": 4,
  "nbformat_minor": 0,
  "metadata": {
    "colab": {
      "name": "ml_regression_AR.ipynb",
      "provenance": [],
      "authorship_tag": "ABX9TyMkM8y5imiNhwbOXzmaUPmE",
      "include_colab_link": true
    },
    "kernelspec": {
      "name": "python3",
      "display_name": "Python 3"
    }
  },
  "cells": [
    {
      "cell_type": "markdown",
      "metadata": {
        "id": "view-in-github",
        "colab_type": "text"
      },
      "source": [
        "<a href=\"https://colab.research.google.com/github/anupomr/ml_regression_ar/blob/master/ml_regression_AR.ipynb\" target=\"_parent\"><img src=\"https://colab.research.google.com/assets/colab-badge.svg\" alt=\"Open In Colab\"/></a>"
      ]
    },
    {
      "cell_type": "markdown",
      "metadata": {
        "id": "iaVxCdak0H-8",
        "colab_type": "text"
      },
      "source": [
        "#Multiple Linear Regression"
      ]
    },
    {
      "cell_type": "markdown",
      "metadata": {
        "id": "jmHjjb_SzlfE",
        "colab_type": "text"
      },
      "source": [
        "###Importing the libraries "
      ]
    },
    {
      "cell_type": "markdown",
      "metadata": {
        "id": "oqj_HJRq1axt",
        "colab_type": "text"
      },
      "source": [
        "###Importing the dataset"
      ]
    },
    {
      "cell_type": "markdown",
      "metadata": {
        "id": "A9jl72ui1rQa",
        "colab_type": "text"
      },
      "source": [
        "###Encoding categorical data"
      ]
    },
    {
      "cell_type": "markdown",
      "metadata": {
        "id": "2BBdLV7x2CGv",
        "colab_type": "text"
      },
      "source": [
        "### Splitting the dataset into the training set and Test set"
      ]
    },
    {
      "cell_type": "markdown",
      "metadata": {
        "id": "eYye6s_02YiH",
        "colab_type": "text"
      },
      "source": [
        "### Training the Multiple Linear Regression model on the Training "
      ]
    },
    {
      "cell_type": "markdown",
      "metadata": {
        "id": "n13XCWZJ52IE",
        "colab_type": "text"
      },
      "source": [
        "###Predicting the Test set results"
      ]
    },
    {
      "cell_type": "code",
      "metadata": {
        "id": "ezbLyRMGzfAx",
        "colab_type": "code",
        "colab": {}
      },
      "source": [
        ""
      ],
      "execution_count": 0,
      "outputs": []
    }
  ]
}